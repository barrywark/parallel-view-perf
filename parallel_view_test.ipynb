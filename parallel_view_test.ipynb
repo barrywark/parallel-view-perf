{
 "cells": [
  {
   "cell_type": "markdown",
   "metadata": {},
   "source": [
    "# Parallel view performance test "
   ]
  },
  {
   "cell_type": "markdown",
   "metadata": {},
   "source": [
    "## Setup"
   ]
  },
  {
   "cell_type": "code",
   "execution_count": 54,
   "metadata": {
    "collapsed": true
   },
   "outputs": [],
   "source": [
    "import uuid\n",
    "import random\n",
    "import requests\n",
    "import json\n",
    "\n",
    "from cloudant import cloudant, Cloudant\n",
    "from getpass import getpass"
   ]
  },
  {
   "cell_type": "code",
   "execution_count": 35,
   "metadata": {
    "collapsed": false
   },
   "outputs": [
    {
     "name": "stdout",
     "output_type": "stream",
     "text": [
      "Username: physion-testy016\n"
     ]
    }
   ],
   "source": [
    "cloudant_username = raw_input('Username: ')"
   ]
  },
  {
   "cell_type": "code",
   "execution_count": 36,
   "metadata": {
    "collapsed": false
   },
   "outputs": [
    {
     "name": "stdout",
     "output_type": "stream",
     "text": [
      "Password: ········\n"
     ]
    }
   ],
   "source": [
    "cloudant_password = getpass('Password: ')"
   ]
  },
  {
   "cell_type": "markdown",
   "metadata": {},
   "source": [
    "## Fixture"
   ]
  },
  {
   "cell_type": "code",
   "execution_count": 19,
   "metadata": {
    "collapsed": false
   },
   "outputs": [
    {
     "name": "stdout",
     "output_type": "stream",
     "text": [
      "Users: 1000\n"
     ]
    }
   ],
   "source": [
    "n_users = int(input('Users: '))"
   ]
  },
  {
   "cell_type": "code",
   "execution_count": 26,
   "metadata": {
    "collapsed": true
   },
   "outputs": [],
   "source": [
    "n_docs = n_users * 1000"
   ]
  },
  {
   "cell_type": "code",
   "execution_count": null,
   "metadata": {
    "collapsed": true
   },
   "outputs": [],
   "source": []
  },
  {
   "cell_type": "code",
   "execution_count": 27,
   "metadata": {
    "collapsed": false
   },
   "outputs": [],
   "source": [
    "teams = [str(uuid.uuid4()) for x in xrange(n_users * 10)]"
   ]
  },
  {
   "cell_type": "code",
   "execution_count": 28,
   "metadata": {
    "collapsed": true
   },
   "outputs": [],
   "source": [
    "owners = [str(uuid.uuid4()) for x in xrange(n_users)]"
   ]
  },
  {
   "cell_type": "code",
   "execution_count": 29,
   "metadata": {
    "collapsed": false
   },
   "outputs": [],
   "source": [
    "ids = [str(uuid.uuid4()) for x in xrange(n_docs)]"
   ]
  },
  {
   "cell_type": "code",
   "execution_count": 55,
   "metadata": {
    "collapsed": false
   },
   "outputs": [],
   "source": [
    "with open('fixture.json', 'w') as outfile:\n",
    "    json.dump({'ids': ids, 'teams': teams, 'users': owners}, outfile)"
   ]
  },
  {
   "cell_type": "code",
   "execution_count": 51,
   "metadata": {
    "collapsed": true
   },
   "outputs": [],
   "source": [
    "def random_subset(col, num=1):\n",
    "    indices = random.sample(range(len(col)), num)\n",
    "    return [col[i] for i in sorted(indices)]"
   ]
  },
  {
   "cell_type": "code",
   "execution_count": null,
   "metadata": {
    "collapsed": false
   },
   "outputs": [],
   "source": [
    "test_db = 'test'\n",
    "\n",
    "with cloudant(cloudant_username, cloudant_password, account=cloudant_username) as client:\n",
    "    try:\n",
    "        db = client[test_db]\n",
    "    except KeyError:\n",
    "        db = client.create_database(test_db)\n",
    "    \n",
    "    for id in ids:\n",
    "        doc = {\n",
    "            '_id': id,\n",
    "            'owner': random_subset(owners, 1)[0],\n",
    "            'attributes': {\n",
    "                'foo': 'bar',\n",
    "                'baz': 10\n",
    "            },\n",
    "            'links': {\n",
    "                '_collaboration_roots': random_subset(teams, 3)\n",
    "            }\n",
    "        }\n",
    "        \n",
    "        db.create_document(doc)"
   ]
  },
  {
   "cell_type": "markdown",
   "metadata": {},
   "source": [
    "## Analysis"
   ]
  },
  {
   "cell_type": "code",
   "execution_count": 1,
   "metadata": {
    "collapsed": true
   },
   "outputs": [],
   "source": [
    "import pandas as pd"
   ]
  },
  {
   "cell_type": "code",
   "execution_count": 6,
   "metadata": {
    "collapsed": false
   },
   "outputs": [],
   "source": [
    "matplotlib inline"
   ]
  },
  {
   "cell_type": "code",
   "execution_count": 3,
   "metadata": {
    "collapsed": true
   },
   "outputs": [],
   "source": [
    "df = pd.read_csv('requests_1456857523.09.csv')"
   ]
  },
  {
   "cell_type": "code",
   "execution_count": 4,
   "metadata": {
    "collapsed": false
   },
   "outputs": [
    {
     "data": {
      "text/html": [
       "<div style=\"max-height:1000px;max-width:1500px;overflow:auto;\">\n",
       "<table border=\"1\" class=\"dataframe\">\n",
       "  <thead>\n",
       "    <tr style=\"text-align: right;\">\n",
       "      <th></th>\n",
       "      <th>Method</th>\n",
       "      <th>Name</th>\n",
       "      <th># requests</th>\n",
       "      <th># failures</th>\n",
       "      <th>Median response time</th>\n",
       "      <th>Average response time</th>\n",
       "      <th>Min response time</th>\n",
       "      <th>Max response time</th>\n",
       "      <th>Average Content Size</th>\n",
       "      <th>Requests/s</th>\n",
       "    </tr>\n",
       "  </thead>\n",
       "  <tbody>\n",
       "    <tr>\n",
       "      <th>0</th>\n",
       "      <td>GET</td>\n",
       "      <td>/test/_design/api/_view/all_docs?keys=%5B%5B%2...</td>\n",
       "      <td>1</td>\n",
       "      <td>0</td>\n",
       "      <td>890</td>\n",
       "      <td>892</td>\n",
       "      <td>892</td>\n",
       "      <td>892</td>\n",
       "      <td>52</td>\n",
       "      <td>0.03</td>\n",
       "    </tr>\n",
       "    <tr>\n",
       "      <th>1</th>\n",
       "      <td>GET</td>\n",
       "      <td>/test/_design/api/_view/all_docs?keys=%5B%5B%2...</td>\n",
       "      <td>1</td>\n",
       "      <td>0</td>\n",
       "      <td>8500</td>\n",
       "      <td>8528</td>\n",
       "      <td>8528</td>\n",
       "      <td>8528</td>\n",
       "      <td>52</td>\n",
       "      <td>0.03</td>\n",
       "    </tr>\n",
       "    <tr>\n",
       "      <th>2</th>\n",
       "      <td>GET</td>\n",
       "      <td>/test/_design/api/_view/all_docs?keys=%5B%5B%2...</td>\n",
       "      <td>0</td>\n",
       "      <td>0</td>\n",
       "      <td>0</td>\n",
       "      <td>0</td>\n",
       "      <td>0</td>\n",
       "      <td>0</td>\n",
       "      <td>0</td>\n",
       "      <td>0.00</td>\n",
       "    </tr>\n",
       "    <tr>\n",
       "      <th>3</th>\n",
       "      <td>GET</td>\n",
       "      <td>/test/_design/api/_view/all_docs?keys=%5B%5B%2...</td>\n",
       "      <td>1</td>\n",
       "      <td>0</td>\n",
       "      <td>2000</td>\n",
       "      <td>2019</td>\n",
       "      <td>2019</td>\n",
       "      <td>2019</td>\n",
       "      <td>52</td>\n",
       "      <td>0.03</td>\n",
       "    </tr>\n",
       "    <tr>\n",
       "      <th>4</th>\n",
       "      <td>GET</td>\n",
       "      <td>/test/_design/api/_view/all_docs?keys=%5B%5B%2...</td>\n",
       "      <td>1</td>\n",
       "      <td>0</td>\n",
       "      <td>1700</td>\n",
       "      <td>1658</td>\n",
       "      <td>1658</td>\n",
       "      <td>1658</td>\n",
       "      <td>52</td>\n",
       "      <td>0.03</td>\n",
       "    </tr>\n",
       "  </tbody>\n",
       "</table>\n",
       "</div>"
      ],
      "text/plain": [
       "  Method                                               Name  # requests  \\\n",
       "0    GET  /test/_design/api/_view/all_docs?keys=%5B%5B%2...           1   \n",
       "1    GET  /test/_design/api/_view/all_docs?keys=%5B%5B%2...           1   \n",
       "2    GET  /test/_design/api/_view/all_docs?keys=%5B%5B%2...           0   \n",
       "3    GET  /test/_design/api/_view/all_docs?keys=%5B%5B%2...           1   \n",
       "4    GET  /test/_design/api/_view/all_docs?keys=%5B%5B%2...           1   \n",
       "\n",
       "   # failures  Median response time  Average response time  Min response time  \\\n",
       "0           0                   890                    892                892   \n",
       "1           0                  8500                   8528               8528   \n",
       "2           0                     0                      0                  0   \n",
       "3           0                  2000                   2019               2019   \n",
       "4           0                  1700                   1658               1658   \n",
       "\n",
       "   Max response time  Average Content Size  Requests/s  \n",
       "0                892                    52        0.03  \n",
       "1               8528                    52        0.03  \n",
       "2                  0                     0        0.00  \n",
       "3               2019                    52        0.03  \n",
       "4               1658                    52        0.03  "
      ]
     },
     "execution_count": 4,
     "metadata": {},
     "output_type": "execute_result"
    }
   ],
   "source": [
    "df.head()"
   ]
  },
  {
   "cell_type": "code",
   "execution_count": 12,
   "metadata": {
    "collapsed": false
   },
   "outputs": [
    {
     "data": {
      "text/plain": [
       "array([[<matplotlib.axes._subplots.AxesSubplot object at 0x111b9ddd0>]], dtype=object)"
      ]
     },
     "execution_count": 12,
     "metadata": {},
     "output_type": "execute_result"
    },
    {
     "data": {
      "image/png": "[encoded data removed]",
      "text/plain": [
       "<matplotlib.figure.Figure at 0x11230d8d0>"
      ]
     },
     "metadata": {},
     "output_type": "display_data"
    }
   ],
   "source": [
    "df[df['Median response time'] > 0].hist('Median response time')"
   ]
  },
  {
   "cell_type": "code",
   "execution_count": 6,
   "metadata": {
    "collapsed": false
   },
   "outputs": [
    {
     "data": {
      "text/plain": [
       "870.0"
      ]
     },
     "execution_count": 6,
     "metadata": {},
     "output_type": "execute_result"
    }
   ],
   "source": [
    "df['Median response time'].median()"
   ]
  }
 ],
 "metadata": {
  "kernelspec": {
   "display_name": "Python 2",
   "language": "python",
   "name": "python2"
  },
  "language_info": {
   "codemirror_mode": {
    "name": "ipython",
    "version": 2
   },
   "file_extension": ".py",
   "mimetype": "text/x-python",
   "name": "python",
   "nbconvert_exporter": "python",
   "pygments_lexer": "ipython2",
   "version": "2.7.11"
  }
 },
 "nbformat": 4,
 "nbformat_minor": 0
}
